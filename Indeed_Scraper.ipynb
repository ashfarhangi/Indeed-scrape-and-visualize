{
 "cells": [
  {
   "cell_type": "code",
   "execution_count": 5,
   "metadata": {},
   "outputs": [],
   "source": [
    "import numpy as np\n",
    "import matplotlib.pyplot as plt\n",
    "import pandas as pd\n",
    "import seaborn as sns\n",
    "import re\n",
    "\n",
    "from bs4 import BeautifulSoup\n",
    "import requests\n",
    "import urllib\n",
    "from urllib.request import urlopen\n",
    "from urllib.parse import urljoin\n"
   ]
  },
  {
   "cell_type": "code",
   "execution_count": 6,
   "metadata": {},
   "outputs": [],
   "source": [
    "def count(x):\n",
    "    if len(x)==0:\n",
    "        return 0\n",
    "    else:\n",
    "        return 1\n"
   ]
  },
  {
   "cell_type": "code",
   "execution_count": 68,
   "metadata": {},
   "outputs": [],
   "source": [
    "def indeed_scraper(link,num_pages):\n",
    "    tech_skills = ['Excel']\n",
    "    df1 = pd.DataFrame([],columns = tech_skills)\n",
    "    dfExport = pd.DataFrame([],columns =[''])\n",
    "    for i in range(num_pages):\n",
    "        page = urlopen(link)\n",
    "        soup = BeautifulSoup(page, 'lxml')\n",
    "        #remember this\n",
    "        numPosts = soup.findAll(attrs={'rel':['nofollow']})\n",
    "        for j in numPosts:\n",
    "            rawPostPages = \"http://indeed.com/m/\"+j['href']\n",
    "            response = requests.get(rawPostPages)\n",
    "#        link in text format\n",
    "            postPage = response.text\n",
    "            postSoup = BeautifulSoup(postPage,'lxml')\n",
    "            postDesc = postSoup.findAll('div',attrs={'id':['desc']})\n",
    "            skillCount = re.findall(r'[\\/b\\/]?[Ee]xcel[\\/\\s,]?', str(postDesc))\n",
    "            myCount = count(skillCount)\n",
    "            sumCount = 0\n",
    "            sumCount=sumCount+myCount\n",
    "            \n",
    "            df2 = pd.DataFrame([[sumCount]],columns=tech_skills)\n",
    "            df1 = pd.concat([df2,df1],axis =0)\n",
    "            #Save job desc\n",
    "            dfTemp = pd.DataFrame([[postDesc]],columns =['Description'])\n",
    "            sf= pd.DataFrame([sumCount],columns=tech_skills)\n",
    "            dfTemp2 = pd.concat([sf,dfTemp],axis = 1)\n",
    "            dfExport = pd.concat([dfExport,dfTemp2],axis = 0)\n",
    "#         Next page\n",
    "        nextURL = soup.findAll(attrs = {'rel' : ['next']})\n",
    "    #Next link is replaced\n",
    "        print('Scraping in progress... ',nextURL)\n",
    "\n",
    "        link = 'http://www.indeed.com/m/'+ str(nextURL[0]['href'])\n",
    "    #now lets save all our data\n",
    "    df1.reset_index(inplace =True)\n",
    "    df1.drop('index',inplace =True,axis =1)\n",
    "    df3 = df1.sum(axis=0)\n",
    "    df4 =pd.DataFrame(df3,columns =['Count'])\n",
    "    df4.reset_index(inplace=True)\n",
    "#     change column names\n",
    "    df4.rename({'index':'tech_skills'},inplace = True,axis = 1)\n",
    "    totalPosts = len(df1)\n",
    "    print(\"total job posts: \", totalPosts)\n",
    "#     dfExport.drop(',inplace =True,axis =1)\n",
    "#     dfExport = pd.concat([dfExport,df1],axis=0)\n",
    "    dfExport.to_excel('./data/jobdes.xlsx')\n",
    "    df1.to_excel('./data/df1.xlsx')\n",
    "    df4.to_excel('./data/df4.xlsx')\n",
    "    \n",
    "\n",
    "    return (df1,df4,totalPosts)"
   ]
  },
  {
   "cell_type": "code",
   "execution_count": 76,
   "metadata": {},
   "outputs": [
    {
     "name": "stderr",
     "output_type": "stream",
     "text": [
      "C:\\Users\\as630696\\AppData\\Local\\Continuum\\anaconda3\\lib\\site-packages\\ipykernel_launcher.py:28: FutureWarning: Sorting because non-concatenation axis is not aligned. A future version\n",
      "of pandas will change to not sort by default.\n",
      "\n",
      "To accept the future behavior, pass 'sort=False'.\n",
      "\n",
      "To retain the current behavior and silence the warning, pass 'sort=True'.\n",
      "\n"
     ]
    },
    {
     "name": "stdout",
     "output_type": "stream",
     "text": [
      "total job posts:  327\n"
     ]
    }
   ],
   "source": [
    "num_pages = 30\n",
    "link= 'https://www.indeed.com/m/jobs?q=data+science&l='\n",
    "results, clean_results, total_jobs = indeed_scraper(link,num_pages)"
   ]
  },
  {
   "cell_type": "code",
   "execution_count": 77,
   "metadata": {},
   "outputs": [],
   "source": [
    "def plot_count(x,total, title):\n",
    "    sns.set()\n",
    "    print('Number of Jobs:', total)\n",
    "    print(x)\n",
    "    plt.figure(figsize = (12,8))\n",
    "    sns.barplot(x='tech_skills', y='Count', data=x).set_title(title,fontsize=20)\n",
    "    plt.xlabel('Skill',fontsize=15)\n",
    "    plt.ylabel('Count: '+str(clean_results),fontsize=15)\n",
    "    ax = plt.gca()\n",
    "    for nr, p in enumerate(ax.patches):\n",
    "        height = round(p.get_height(),0)\n",
    "        ax.text(nr, height + 1.5,'{}'.format(height), color='black',fontsize=15,  ha='center', va='center')\n"
   ]
  },
  {
   "cell_type": "code",
   "execution_count": 78,
   "metadata": {},
   "outputs": [
    {
     "name": "stdout",
     "output_type": "stream",
     "text": [
      "Number of Jobs: 327\n",
      "  tech_skills  Count\n",
      "0       Excel  135.0\n"
     ]
    },
    {
     "data": {
      "image/png": "[encoded data removed]",
      "text/plain": [
       "<Figure size 864x576 with 1 Axes>"
      ]
     },
     "metadata": {},
     "output_type": "display_data"
    }
   ],
   "source": [
    "plot_count(clean_results, total_jobs, 'Nationwide')\n"
   ]
  },
  {
   "cell_type": "code",
   "execution_count": null,
   "metadata": {},
   "outputs": [],
   "source": []
  }
 ],
 "metadata": {
  "kernelspec": {
   "display_name": "Python 3",
   "language": "python",
   "name": "python3"
  },
  "language_info": {
   "codemirror_mode": {
    "name": "ipython",
    "version": 3
   },
   "file_extension": ".py",
   "mimetype": "text/x-python",
   "name": "python",
   "nbconvert_exporter": "python",
   "pygments_lexer": "ipython3",
   "version": "3.7.4"
  }
 },
 "nbformat": 4,
 "nbformat_minor": 2
}
